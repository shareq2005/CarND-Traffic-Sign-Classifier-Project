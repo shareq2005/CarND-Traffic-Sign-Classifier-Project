{
 "cells": [
  {
   "cell_type": "markdown",
   "metadata": {},
   "source": [
    "---\n",
    "## Step 0: Load The Data"
   ]
  },
  {
   "cell_type": "markdown",
   "metadata": {},
   "source": [
    "# Self-Driving Car Engineer Nanodegree\n",
    "\n",
    "## Deep Learning\n",
    "\n",
    "## Project: Build a Traffic Sign Recognition Classifier\n",
    "\n",
    "\n",
    "> **Note**: Once you have completed all of the code implementations, you need to finalize your work by exporting the iPython Notebook as an HTML document. Before exporting the notebook to html, all of the code cells need to have been run so that reviewers can see the final implementation and output. You can then export the notebook by using the menu above and navigating to  \\n\",\n",
    "    \"**File -> Download as -> HTML (.html)**. Include the finished document along with this notebook as your submission. "
   ]
  },
  {
   "cell_type": "markdown",
   "metadata": {},
   "source": [
    "### Load the Training Data, and the Validation Set"
   ]
  },
  {
   "cell_type": "code",
   "execution_count": 74,
   "metadata": {},
   "outputs": [
    {
     "name": "stdout",
     "output_type": "stream",
     "text": [
      "['', '/Users/shareq/miniconda3/envs/carnd-term1/lib/python35.zip', '/Users/shareq/miniconda3/envs/carnd-term1/lib/python3.5', '/Users/shareq/miniconda3/envs/carnd-term1/lib/python3.5/plat-darwin', '/Users/shareq/miniconda3/envs/carnd-term1/lib/python3.5/lib-dynload', '/Users/shareq/miniconda3/envs/carnd-term1/lib/python3.5/site-packages', '/Users/shareq/miniconda3/envs/carnd-term1/lib/python3.5/site-packages/cycler-0.10.0-py3.5.egg', '/Users/shareq/miniconda3/envs/carnd-term1/lib/python3.5/site-packages/IPython/extensions', '/Users/shareq/.ipython']\n"
     ]
    }
   ],
   "source": [
    "# Load pickled data\n",
    "import pickle\n",
    "import os\n",
    "print(os.sys.path)\n",
    "import cv2\n",
    "\n",
    "training_file = 'train.p'\n",
    "validation_file= 'valid.p'\n",
    "testing_file = 'test.p'\n",
    "\n",
    "with open(training_file, mode='rb') as f:\n",
    "    train = pickle.load(f)\n",
    "with open(validation_file, mode='rb') as f:\n",
    "    valid = pickle.load(f)\n",
    "with open(testing_file, mode='rb') as f:\n",
    "    test = pickle.load(f)\n",
    "    \n",
    "X_train, y_train = train['features'], train['labels']\n",
    "X_valid, y_valid = valid['features'], valid['labels']\n",
    "X_test, y_test = test['features'], test['labels']\n",
    "\n",
    "Sizes_train = train['sizes']"
   ]
  },
  {
   "cell_type": "markdown",
   "metadata": {},
   "source": [
    "---\n",
    "\n",
    "## Step 1: Dataset Summary & Exploration\n",
    "\n",
    "The pickled data is a dictionary with 4 key/value pairs:\n",
    "\n",
    "- `'features'` is a 4D array containing raw pixel data of the traffic sign images, (num examples, width, height, channels).\n",
    "- `'labels'` is a 1D array containing the label/class id of the traffic sign. The file `signnames.csv` contains id -> name mappings for each id.\n",
    "- `'sizes'` is a list containing tuples, (width, height) representing the original width and height the image.\n",
    "- `'coords'` is a list containing tuples, (x1, y1, x2, y2) representing coordinates of a bounding box around the sign in the image. **THESE COORDINATES ASSUME THE ORIGINAL IMAGE. THE PICKLED DATA CONTAINS RESIZED VERSIONS (32 by 32) OF THESE IMAGES**\n",
    "\n",
    "Complete the basic data summary below. Use python, numpy and/or pandas methods to calculate the data summary rather than hard coding the results. For example, the [pandas shape method](http://pandas.pydata.org/pandas-docs/stable/generated/pandas.DataFrame.shape.html) might be useful for calculating some of the summary results. "
   ]
  },
  {
   "cell_type": "markdown",
   "metadata": {},
   "source": [
    "### Provide a Basic Summary of the Data Set Using Python, Numpy and/or Pandas"
   ]
  },
  {
   "cell_type": "code",
   "execution_count": 75,
   "metadata": {},
   "outputs": [
    {
     "name": "stdout",
     "output_type": "stream",
     "text": [
      "Number of training examples = 34799\n",
      "Number of testing examples = 12630\n",
      "Image data shape = (32, 32, 3)\n",
      "Number of classes = 43\n"
     ]
    }
   ],
   "source": [
    "# Number of training examples\n",
    "n_train = len(X_train)\n",
    "\n",
    "# Number of validation examples\n",
    "n_validation = len(X_valid)\n",
    "\n",
    "# Number of testing examples.\n",
    "n_test = len(X_test)\n",
    "\n",
    "# What's the shape of an traffic sign image?\n",
    "image_shape = X_train[0].shape\n",
    "\n",
    "# How many unique classes/labels there are in the dataset.\n",
    "n_classes = len(np.unique(y_train))\n",
    "\n",
    "print(\"Number of training examples =\", n_train)\n",
    "print(\"Number of testing examples =\", n_test)\n",
    "print(\"Image data shape =\", image_shape)\n",
    "print(\"Number of classes =\", n_classes)"
   ]
  },
  {
   "cell_type": "markdown",
   "metadata": {},
   "source": [
    "### Include an exploratory visualization of the dataset"
   ]
  },
  {
   "cell_type": "markdown",
   "metadata": {},
   "source": [
    "Visualize the German Traffic Signs Dataset using the pickled file(s). This is open ended, suggestions include: plotting traffic sign images, plotting the count of each sign, etc. \n",
    "\n",
    "The [Matplotlib](http://matplotlib.org/) [examples](http://matplotlib.org/examples/index.html) and [gallery](http://matplotlib.org/gallery.html) pages are a great resource for doing visualizations in Python.\n",
    "\n",
    "**NOTE:** It's recommended you start with something simple first. If you wish to do more, come back to it after you've completed the rest of the sections. It can be interesting to look at the distribution of classes in the training, validation and test set. Is the distribution the same? Are there more examples of some classes than others?"
   ]
  },
  {
   "cell_type": "code",
   "execution_count": 76,
   "metadata": {},
   "outputs": [
    {
     "name": "stdout",
     "output_type": "stream",
     "text": [
      "5\n"
     ]
    },
    {
     "data": {
      "image/png": "[encoded data removed]",
      "text/plain": [
       "<matplotlib.figure.Figure at 0x11913e9b0>"
      ]
     },
     "metadata": {},
     "output_type": "display_data"
    }
   ],
   "source": [
    "### Data exploration visualization code goes here.\n",
    "### Feel free to use as many code cells as needed.\n",
    "# Visualizations will be shown in the notebook.\n",
    "\n",
    "import random\n",
    "import numpy as np\n",
    "import matplotlib.pyplot as plt\n",
    "%matplotlib inline\n",
    "\n",
    "index = random.randint(0, len(X_train))\n",
    "image = X_train[index].squeeze()\n",
    "\n",
    "plt.figure(figsize=(1,1))\n",
    "plt.imshow(image)\n",
    "print(y_train[index])"
   ]
  },
  {
   "cell_type": "markdown",
   "metadata": {},
   "source": [
    "----\n",
    "\n",
    "## Step 2: Design and Test a Model Architecture\n"
   ]
  },
  {
   "cell_type": "markdown",
   "metadata": {},
   "source": [
    "### Pre-process the Data Set (normalization and grayscale)"
   ]
  },
  {
   "cell_type": "code",
   "execution_count": 77,
   "metadata": {
    "collapsed": true
   },
   "outputs": [],
   "source": [
    "#Shuffle the images\n",
    "from sklearn.utils import shuffle\n",
    "\n",
    "# Shuffle the images \n",
    "X_train, y_train = shuffle(X_train, y_train)"
   ]
  },
  {
   "cell_type": "code",
   "execution_count": 78,
   "metadata": {},
   "outputs": [
    {
     "name": "stdout",
     "output_type": "stream",
     "text": [
      "35\n"
     ]
    },
    {
     "data": {
      "image/png": "[encoded data removed]",
      "text/plain": [
       "<matplotlib.figure.Figure at 0x1183bd5f8>"
      ]
     },
     "metadata": {},
     "output_type": "display_data"
    }
   ],
   "source": [
    "import cv2\n",
    "import numpy as np\n",
    "\n",
    "def GrayscaleImage(pixel_data):\n",
    "    grayscaled_image = cv2.cvtColor(pixel_data, cv2.COLOR_RGB2GRAY)        \n",
    "    grayscaled_image = grayscaled_image.reshape(32,32,1)\n",
    "    return grayscaled_image\n",
    "\n",
    "def CreateGrayscaleImageArray(X_data):\n",
    "    X_data = np.array([GrayscaleImage(X_data[i]) for i in range(len(X_data))])\n",
    "    return X_data\n",
    "\n",
    "index = random.randint(0, len(X_train))\n",
    "image = X_train[index].squeeze()\n",
    "\n",
    "#Grayscale the training, validation and testing sets\n",
    "X_train = CreateGrayscaleImageArray(X_train)\n",
    "X_valid = CreateGrayscaleImageArray(X_valid)\n",
    "X_test  = CreateGrayscaleImageArray(X_test)\n",
    "\n",
    "#Print a random image\n",
    "index = random.randint(0, len(X_train))\n",
    "image = X_train[index].squeeze()\n",
    "\n",
    "plt.figure(figsize=(1,1))\n",
    "plt.imshow(image, cmap='gray')\n",
    "print(y_train[index])"
   ]
  },
  {
   "cell_type": "code",
   "execution_count": 79,
   "metadata": {},
   "outputs": [
    {
     "name": "stdout",
     "output_type": "stream",
     "text": [
      "Normalization complete\n",
      "(32, 32, 1)\n"
     ]
    }
   ],
   "source": [
    "import numpy as np\n",
    "#Normalize the training, validation & testing sets\n",
    "\n",
    "X_train = (X_train - 128.0)/128.0\n",
    "X_valid = (X_valid - 128.0)/128.0\n",
    "X_test  = (X_test  - 128.0)/128.0"
   ]
  },
  {
   "cell_type": "markdown",
   "metadata": {},
   "source": [
    "### Setup TensorFlow"
   ]
  },
  {
   "cell_type": "code",
   "execution_count": 8,
   "metadata": {
    "collapsed": true
   },
   "outputs": [],
   "source": [
    "import tensorflow as tf\n",
    "\n",
    "EPOCHS = 50\n",
    "BATCH_SIZE = 128"
   ]
  },
  {
   "cell_type": "markdown",
   "metadata": {},
   "source": [
    "### Model Architecture"
   ]
  },
  {
   "cell_type": "code",
   "execution_count": 9,
   "metadata": {
    "collapsed": true
   },
   "outputs": [],
   "source": [
    "from tensorflow.contrib.layers import flatten\n",
    "\n",
    "def LeNet(x,keep_prob):    \n",
    "    # Arguments used for tf.truncated_normal, randomly defines variables for the weights and biases for each layer\n",
    "    mu = 0\n",
    "    sigma = 0.1\n",
    "    \n",
    "    # Layer 1: Convolutional. Input = 32x32x1. Output = 28x28x24.\n",
    "    conv1_W = tf.Variable(tf.truncated_normal(shape=(5, 5, 1, 24), mean = mu, stddev = sigma))\n",
    "    conv1_b = tf.Variable(tf.zeros(24))\n",
    "    conv1   = tf.nn.conv2d(x, conv1_W, strides=[1, 1, 1, 1], padding='VALID') + conv1_b\n",
    "    conv1   = tf.nn.relu(conv1)\n",
    "    #conv1   = tf.nn.dropout(conv1,keep_prob)\n",
    "    \n",
    "    # Layer 2: Pooling. Input = 28x28x24. Output = 14x14x24.\n",
    "    maxp2 = tf.nn.max_pool(conv1, ksize=[1, 2, 2, 1], strides=[1, 2, 2, 1], padding='VALID')\n",
    "    #maxp2 = tf.nn.dropout(maxp2,keep_prob)\n",
    "    \n",
    "    # Layer 3: Convolutional. Input = 14x14x24. Output = 10x10x48.\n",
    "    conv3_W = tf.Variable(tf.truncated_normal(shape=(5, 5, 24, 48), mean = mu, stddev = sigma))\n",
    "    conv3_b = tf.Variable(tf.zeros(48))\n",
    "    conv3   = tf.nn.conv2d(maxp2, conv3_W, strides=[1, 1, 1, 1], padding='VALID') + conv3_b\n",
    "    conv3   = tf.nn.relu(conv3)\n",
    "    #conv3   = tf.nn.dropout(conv3,keep_prob)\n",
    "    \n",
    "    # Layer 4: Pooling. Input = 10x10x48. Output = 5x5x48.\n",
    "    maxp4 = tf.nn.max_pool(conv3, ksize=[1, 2, 2, 1], strides=[1, 2, 2, 1], padding='VALID')\n",
    "    #maxp4 = tf.nn.dropout(maxp4,keep_prob)\n",
    "\n",
    "    # SOLUTION: Flatten. Input = 5x5x48. Output = 1200.\n",
    "    flat5   = flatten(maxp4)\n",
    "    \n",
    "    # Layer 5: Fully Connected. Input = 1200. Output = 480.\n",
    "    fc5_W = tf.Variable(tf.truncated_normal(shape=(1200, 480), mean = mu, stddev = sigma))\n",
    "    fc5_b = tf.Variable(tf.zeros(480))\n",
    "    fc5   = tf.matmul(flat5, fc5_W) + fc5_b\n",
    "    fc5    = tf.nn.relu(fc5)\n",
    "    #fc5    = tf.nn.dropout(fc5,keep_prob)\n",
    "    \n",
    "    # Layer 6: Fully Connected. Input = 480. Output = 240.\n",
    "    fc6_W  = tf.Variable(tf.truncated_normal(shape=(480, 240), mean = mu, stddev = sigma))\n",
    "    fc6_b  = tf.Variable(tf.zeros(240))\n",
    "    fc6    = tf.matmul(fc5, fc6_W) + fc6_b    \n",
    "    fc6    = tf.nn.relu(fc6)\n",
    "    #fc6    = tf.nn.dropout(fc6,keep_prob)\n",
    "    \n",
    "    # Layer 7: Fully Connected. Input = 240. Output = 43.\n",
    "    fc7_W  = tf.Variable(tf.truncated_normal(shape=(240, 43), mean = mu, stddev = sigma))\n",
    "    fc7_b  = tf.Variable(tf.zeros(43))\n",
    "    logits = tf.matmul(fc6, fc7_W) + fc7_b\n",
    "\n",
    "    return logits"
   ]
  },
  {
   "cell_type": "markdown",
   "metadata": {},
   "source": [
    "## Features and Labels\n",
    "\n",
    "`x` is a placeholder for a batch of input images.\n",
    "`y` is a placeholder for a batch of output labels.\n"
   ]
  },
  {
   "cell_type": "code",
   "execution_count": 10,
   "metadata": {
    "collapsed": true
   },
   "outputs": [],
   "source": [
    "x = tf.placeholder(tf.float32, (None, 32, 32, 1))\n",
    "y = tf.placeholder(tf.int32, (None))\n",
    "one_hot_y = tf.one_hot(y, 43)\n",
    "\n",
    "keep_prob = tf.placeholder(tf.float32)\n"
   ]
  },
  {
   "cell_type": "markdown",
   "metadata": {},
   "source": [
    "### Training Pipeline\n"
   ]
  },
  {
   "cell_type": "code",
   "execution_count": 11,
   "metadata": {
    "collapsed": true
   },
   "outputs": [],
   "source": [
    "rate = 0.001\n",
    "\n",
    "logits = LeNet(x,keep_prob)\n",
    "cross_entropy = tf.nn.softmax_cross_entropy_with_logits(labels=one_hot_y, logits=logits)\n",
    "loss_operation = tf.reduce_mean(cross_entropy)\n",
    "optimizer = tf.train.AdamOptimizer(learning_rate = rate)\n",
    "training_operation = optimizer.minimize(loss_operation)"
   ]
  },
  {
   "cell_type": "markdown",
   "metadata": {},
   "source": [
    "## Model Evaluation\n",
    "Evaluation of the loss and accuracy of the model for the German Traffic Dataset."
   ]
  },
  {
   "cell_type": "code",
   "execution_count": 12,
   "metadata": {
    "collapsed": true
   },
   "outputs": [],
   "source": [
    "correct_prediction = tf.equal(tf.argmax(logits, 1), tf.argmax(one_hot_y, 1))\n",
    "accuracy_operation = tf.reduce_mean(tf.cast(correct_prediction, tf.float32))\n",
    "saver = tf.train.Saver()\n",
    "\n",
    "def evaluate(X_data, y_data):\n",
    "    num_examples = len(X_data)\n",
    "    total_accuracy = 0\n",
    "    sess = tf.get_default_session()\n",
    "    for offset in range(0, num_examples, BATCH_SIZE):\n",
    "        batch_x, batch_y = X_data[offset:offset+BATCH_SIZE], y_data[offset:offset+BATCH_SIZE]\n",
    "        accuracy = sess.run(accuracy_operation, feed_dict={x: batch_x, y: batch_y,keep_prob:1.})\n",
    "        total_accuracy += (accuracy * len(batch_x))\n",
    "    return total_accuracy / num_examples"
   ]
  },
  {
   "cell_type": "markdown",
   "metadata": {},
   "source": [
    "### Train, Validate and Test the Model"
   ]
  },
  {
   "cell_type": "code",
   "execution_count": 12,
   "metadata": {},
   "outputs": [
    {
     "name": "stdout",
     "output_type": "stream",
     "text": [
      "Training...\n",
      "\n",
      "EPOCH 1 ...\n",
      "Validation Accuracy = 0.865\n",
      "\n",
      "EPOCH 2 ...\n",
      "Validation Accuracy = 0.902\n",
      "\n",
      "EPOCH 3 ...\n",
      "Validation Accuracy = 0.922\n",
      "\n",
      "EPOCH 4 ...\n",
      "Validation Accuracy = 0.921\n",
      "\n",
      "EPOCH 5 ...\n",
      "Validation Accuracy = 0.920\n",
      "\n",
      "EPOCH 6 ...\n",
      "Validation Accuracy = 0.917\n",
      "\n",
      "EPOCH 7 ...\n",
      "Validation Accuracy = 0.928\n",
      "\n",
      "EPOCH 8 ...\n",
      "Validation Accuracy = 0.934\n",
      "\n",
      "EPOCH 9 ...\n",
      "Validation Accuracy = 0.936\n",
      "\n",
      "EPOCH 10 ...\n",
      "Validation Accuracy = 0.936\n",
      "\n",
      "EPOCH 11 ...\n",
      "Validation Accuracy = 0.935\n",
      "\n",
      "EPOCH 12 ...\n",
      "Validation Accuracy = 0.937\n",
      "\n",
      "EPOCH 13 ...\n",
      "Validation Accuracy = 0.936\n",
      "\n",
      "EPOCH 14 ...\n",
      "Validation Accuracy = 0.922\n",
      "\n",
      "EPOCH 15 ...\n",
      "Validation Accuracy = 0.943\n",
      "\n",
      "EPOCH 16 ...\n",
      "Validation Accuracy = 0.936\n",
      "\n",
      "EPOCH 17 ...\n",
      "Validation Accuracy = 0.941\n",
      "\n",
      "EPOCH 18 ...\n",
      "Validation Accuracy = 0.953\n",
      "\n",
      "EPOCH 19 ...\n",
      "Validation Accuracy = 0.950\n",
      "\n",
      "EPOCH 20 ...\n",
      "Validation Accuracy = 0.959\n",
      "\n",
      "EPOCH 21 ...\n",
      "Validation Accuracy = 0.941\n",
      "\n",
      "EPOCH 22 ...\n",
      "Validation Accuracy = 0.941\n",
      "\n",
      "EPOCH 23 ...\n",
      "Validation Accuracy = 0.936\n",
      "\n",
      "EPOCH 24 ...\n",
      "Validation Accuracy = 0.935\n",
      "\n",
      "EPOCH 25 ...\n",
      "Validation Accuracy = 0.937\n",
      "\n",
      "EPOCH 26 ...\n",
      "Validation Accuracy = 0.944\n",
      "\n",
      "EPOCH 27 ...\n",
      "Validation Accuracy = 0.954\n",
      "\n",
      "EPOCH 28 ...\n",
      "Validation Accuracy = 0.954\n",
      "\n",
      "EPOCH 29 ...\n",
      "Validation Accuracy = 0.933\n",
      "\n",
      "EPOCH 30 ...\n",
      "Validation Accuracy = 0.942\n",
      "\n",
      "EPOCH 31 ...\n",
      "Validation Accuracy = 0.938\n",
      "\n",
      "EPOCH 32 ...\n",
      "Validation Accuracy = 0.939\n",
      "\n",
      "EPOCH 33 ...\n",
      "Validation Accuracy = 0.947\n",
      "\n",
      "EPOCH 34 ...\n",
      "Validation Accuracy = 0.956\n",
      "\n",
      "EPOCH 35 ...\n",
      "Validation Accuracy = 0.953\n",
      "\n",
      "EPOCH 36 ...\n",
      "Validation Accuracy = 0.959\n",
      "\n",
      "EPOCH 37 ...\n",
      "Validation Accuracy = 0.959\n",
      "\n",
      "EPOCH 38 ...\n",
      "Validation Accuracy = 0.959\n",
      "\n",
      "EPOCH 39 ...\n",
      "Validation Accuracy = 0.960\n",
      "\n",
      "EPOCH 40 ...\n",
      "Validation Accuracy = 0.959\n",
      "\n",
      "EPOCH 41 ...\n",
      "Validation Accuracy = 0.959\n",
      "\n",
      "EPOCH 42 ...\n",
      "Validation Accuracy = 0.959\n",
      "\n",
      "EPOCH 43 ...\n",
      "Validation Accuracy = 0.959\n",
      "\n",
      "EPOCH 44 ...\n",
      "Validation Accuracy = 0.960\n",
      "\n",
      "EPOCH 45 ...\n",
      "Validation Accuracy = 0.959\n",
      "\n",
      "EPOCH 46 ...\n",
      "Validation Accuracy = 0.959\n",
      "\n",
      "EPOCH 47 ...\n",
      "Validation Accuracy = 0.959\n",
      "\n",
      "EPOCH 48 ...\n",
      "Validation Accuracy = 0.959\n",
      "\n",
      "EPOCH 49 ...\n",
      "Validation Accuracy = 0.959\n",
      "\n",
      "EPOCH 50 ...\n",
      "Validation Accuracy = 0.959\n",
      "\n",
      "Model saved\n"
     ]
    }
   ],
   "source": [
    "with tf.Session() as sess:\n",
    "    sess.run(tf.global_variables_initializer())\n",
    "    num_examples = len(X_train)\n",
    "    \n",
    "    print(\"Training...\")\n",
    "    print()\n",
    "    for i in range(EPOCHS):\n",
    "        X_train, y_train = shuffle(X_train, y_train)\n",
    "        for offset in range(0, num_examples, BATCH_SIZE):\n",
    "            end = offset + BATCH_SIZE\n",
    "            batch_x, batch_y = X_train[offset:end], y_train[offset:end]\n",
    "            sess.run(training_operation, feed_dict={x: batch_x, y: batch_y,keep_prob:0.5})\n",
    "            \n",
    "        validation_accuracy = evaluate(X_valid, y_valid)\n",
    "        print(\"EPOCH {} ...\".format(i+1))\n",
    "        print(\"Validation Accuracy = {:.3f}\".format(validation_accuracy))\n",
    "        print()\n",
    "        \n",
    "    saver.save(sess, './lenet')\n",
    "    print(\"Model saved\")\n"
   ]
  },
  {
   "cell_type": "markdown",
   "metadata": {},
   "source": [
    "---\n",
    "\n",
    "## Step 3: Test a Model on New Images\n",
    "\n",
    "To give yourself more insight into how your model is working, download at least five pictures of German traffic signs from the web and use your model to predict the traffic sign type.\n",
    "\n",
    "You may find `signnames.csv` useful as it contains mappings from the class id (integer) to the actual sign name."
   ]
  },
  {
   "cell_type": "markdown",
   "metadata": {},
   "source": [
    "### Load and Output the Images"
   ]
  },
  {
   "cell_type": "code",
   "execution_count": 27,
   "metadata": {},
   "outputs": [
    {
     "name": "stdout",
     "output_type": "stream",
     "text": [
      "16\n"
     ]
    },
    {
     "data": {
      "image/png": "[encoded data removed]",
      "text/plain": [
       "<matplotlib.figure.Figure at 0x1186bd5f8>"
      ]
     },
     "metadata": {},
     "output_type": "display_data"
    }
   ],
   "source": [
    "### Load the images and plot them here.\n",
    "import cv2\n",
    "import numpy as np\n",
    "\n",
    "# Load the examples images and the mappings found on the internet\n",
    "traffic_sign_example_images   = ['0.png','1.png','2.png','3.png','4.png','5.png','6.png','7.png','8.png']\n",
    "traffic_sign_example_mappings = [12,33,13,17,4,1,28,35,16]\n",
    "\n",
    "image_array = []\n",
    "\n",
    "for i in range(0, len(traffic_sign_example_images)):\n",
    "    test_image = cv2.imread('Traffic-Sign-Examples/' + traffic_sign_example_images[i])\n",
    "    image_array.append(test_image)\n",
    "\n",
    "# Grayscale the example\n",
    "X_test_images = CreateGrayscaleImageArray(image_array)\n",
    "\n",
    "# Output a random image\n",
    "index = random.randint(0, len(X_test_images)-1)\n",
    "image = X_test_images[index].squeeze()\n",
    "\n",
    "plt.figure(figsize=(1,1))\n",
    "plt.imshow(image, cmap='gray')\n",
    "print(traffic_sign_example_mappings[index])"
   ]
  },
  {
   "cell_type": "markdown",
   "metadata": {},
   "source": [
    "### Predict the Sign Type for Each Image"
   ]
  },
  {
   "cell_type": "code",
   "execution_count": 80,
   "metadata": {},
   "outputs": [],
   "source": [
    "#preprocess - normalize the example images\n",
    "test_images_grayscaled = (X_test_images - 128.0)/128.0"
   ]
  },
  {
   "cell_type": "code",
   "execution_count": 35,
   "metadata": {},
   "outputs": [
    {
     "name": "stdout",
     "output_type": "stream",
     "text": [
      "Image 1 index = 12, predicted index = 12\n",
      "Image 2 index = 33, predicted index = 33\n",
      "Image 3 index = 13, predicted index = 13\n",
      "Image 4 index = 17, predicted index = 17\n",
      "Image 5 index = 4, predicted index = 4\n",
      "Image 6 index = 1, predicted index = 1\n",
      "Image 7 index = 28, predicted index = 28\n",
      "Image 8 index = 35, predicted index = 35\n",
      "Image 9 index = 16, predicted index = 16\n"
     ]
    }
   ],
   "source": [
    "# Class used to save and/or restore Tensor Variables\n",
    "saver = tf.train.Saver()\n",
    "prediction = tf.argmax(logits, 1)\n",
    "\n",
    "with tf.Session() as sess:\n",
    "    # Load the weights and bias\n",
    "    saver.restore(sess, './lenet')\n",
    "    predicted_index = sess.run(prediction,feed_dict={x: test_images_grayscaled, keep_prob:1.0})\n",
    "\n",
    "for i in range(len(test_images_grayscaled)):\n",
    "    print(\"Image {} index = {}, predicted index = {}\".format(i+1, traffic_sign_example_mappings[i], predicted_index[i]))\n"
   ]
  },
  {
   "cell_type": "markdown",
   "metadata": {},
   "source": [
    "### Analyze Performance"
   ]
  },
  {
   "cell_type": "code",
   "execution_count": 38,
   "metadata": {},
   "outputs": [
    {
     "name": "stdout",
     "output_type": "stream",
     "text": [
      "The accuracy on the example images from the internet is 100.0 %\n"
     ]
    }
   ],
   "source": [
    "### Calculate the accuracy for these 5 new images. \n",
    "\n",
    "with tf.Session() as sess:\n",
    "    # Load the weights and bias\n",
    "    saver.restore(sess, './lenet')\n",
    "    validation_accuracy_percentage = evaluate(X_test_images, traffic_sign_example_mappings) * 100\n",
    "\n",
    "print(\"The accuracy on the example images from the internet is {:.1f} %\".format(validation_accuracy_percentage))\n"
   ]
  },
  {
   "cell_type": "markdown",
   "metadata": {},
   "source": [
    "### Output Top 5 Softmax Probabilities For Each Image Found on the Web"
   ]
  },
  {
   "cell_type": "code",
   "execution_count": 61,
   "metadata": {},
   "outputs": [
    {
     "name": "stdout",
     "output_type": "stream",
     "text": [
      "Image 1, Real Index = 12, top 5 softmax probabilites:\n",
      "\t Index = 12, Probability = 1.0\n",
      "\t Index = 40, Probability = 9.179338039945316e-34\n",
      "\t Index = 41, Probability = 2.9976758984899175e-34\n",
      "\t Index = 0, Probability = 0.0\n",
      "\t Index = 1, Probability = 0.0\n",
      "Image 2, Real Index = 33, top 5 softmax probabilites:\n",
      "\t Index = 33, Probability = 1.0\n",
      "\t Index = 4, Probability = 1.0280932299210515e-23\n",
      "\t Index = 25, Probability = 1.7850381541195987e-25\n",
      "\t Index = 19, Probability = 8.479694516623654e-26\n",
      "\t Index = 11, Probability = 4.2981527073738104e-26\n",
      "Image 3, Real Index = 13, top 5 softmax probabilites:\n",
      "\t Index = 13, Probability = 1.0\n",
      "\t Index = 0, Probability = 0.0\n",
      "\t Index = 1, Probability = 0.0\n",
      "\t Index = 2, Probability = 0.0\n",
      "\t Index = 3, Probability = 0.0\n",
      "Image 4, Real Index = 17, top 5 softmax probabilites:\n",
      "\t Index = 17, Probability = 1.0\n",
      "\t Index = 14, Probability = 8.620825886010289e-18\n",
      "\t Index = 39, Probability = 4.922131144714975e-24\n",
      "\t Index = 37, Probability = 9.669017578892201e-26\n",
      "\t Index = 30, Probability = 1.593852783358629e-26\n",
      "Image 5, Real Index = 4, top 5 softmax probabilites:\n",
      "\t Index = 4, Probability = 1.0\n",
      "\t Index = 0, Probability = 4.714834495028785e-20\n",
      "\t Index = 1, Probability = 1.1181141907279604e-25\n",
      "\t Index = 14, Probability = 9.787505103153979e-27\n",
      "\t Index = 39, Probability = 3.08645392138118e-28\n",
      "Image 6, Real Index = 1, top 5 softmax probabilites:\n",
      "\t Index = 1, Probability = 0.9999988079071045\n",
      "\t Index = 5, Probability = 1.1683979437293601e-06\n",
      "\t Index = 4, Probability = 7.928913636767732e-10\n",
      "\t Index = 0, Probability = 8.958377442636056e-12\n",
      "\t Index = 6, Probability = 8.419694629002716e-12\n",
      "Image 7, Real Index = 28, top 5 softmax probabilites:\n",
      "\t Index = 28, Probability = 1.0\n",
      "\t Index = 27, Probability = 1.120275320475595e-16\n",
      "\t Index = 11, Probability = 2.6827594773630174e-17\n",
      "\t Index = 20, Probability = 2.0957449654004734e-17\n",
      "\t Index = 8, Probability = 1.1576452229683726e-17\n",
      "Image 8, Real Index = 35, top 5 softmax probabilites:\n",
      "\t Index = 35, Probability = 1.0\n",
      "\t Index = 20, Probability = 2.561256108325185e-16\n",
      "\t Index = 36, Probability = 2.1176370282306284e-16\n",
      "\t Index = 25, Probability = 1.133052812484926e-16\n",
      "\t Index = 9, Probability = 1.1394338469448503e-22\n",
      "Image 9, Real Index = 16, top 5 softmax probabilites:\n",
      "\t Index = 16, Probability = 1.0\n",
      "\t Index = 9, Probability = 5.909751017064114e-30\n",
      "\t Index = 5, Probability = 4.206671573824411e-31\n",
      "\t Index = 4, Probability = 1.1913110635312081e-34\n",
      "\t Index = 7, Probability = 3.139726756961173e-35\n"
     ]
    }
   ],
   "source": [
    "### Print out the top five softmax probabilities for the predictions on the German traffic sign images found on the web. \n",
    "### Feel free to use as many code cells as needed.\n",
    "\n",
    "softmax_probabilities = tf.nn.softmax(logits)\n",
    "top_five_probs = tf.nn.top_k(softmax_probabilities, k=5)\n",
    "\n",
    "with tf.Session() as sess:\n",
    "    saver.restore(sess, './lenet')\n",
    "    top_five_probs_out = sess.run(top_five_probs, feed_dict={x: test_images_grayscaled, keep_prob:1.0})\n",
    "\n",
    "#print(top_five_probs_out)\n",
    "\n",
    "for i in range(len(test_images_grayscaled)):\n",
    "    print('Image {}, Real Index = {}, top 5 softmax probabilites:'.format(i+1,traffic_sign_example_mappings[i]))\n",
    "    \n",
    "    for j in range(5):\n",
    "        print('\\t Index = {}, Probability = {}'.format(top_five_probs_out.indices[i][j], top_five_probs_out.values[i][j]))\n",
    "\n",
    "\n"
   ]
  },
  {
   "cell_type": "markdown",
   "metadata": {},
   "source": [
    "### Project Writeup\n",
    "\n",
    "Once you have completed the code implementation, document your results in a project writeup using this [template](https://github.com/udacity/CarND-Traffic-Sign-Classifier-Project/blob/master/writeup_template.md) as a guide. The writeup can be in a markdown or pdf file. "
   ]
  },
  {
   "cell_type": "markdown",
   "metadata": {},
   "source": [
    "> **Note**: Once you have completed all of the code implementations and successfully answered each question above, you may finalize your work by exporting the iPython Notebook as an HTML document. You can do this by using the menu above and navigating to  \\n\",\n",
    "    \"**File -> Download as -> HTML (.html)**. Include the finished document along with this notebook as your submission."
   ]
  },
  {
   "cell_type": "markdown",
   "metadata": {},
   "source": [
    "---\n",
    "\n",
    "## Step 4 (Optional): Visualize the Neural Network's State with Test Images\n",
    "\n",
    " This Section is not required to complete but acts as an additional excersise for understaning the output of a neural network's weights. While neural networks can be a great learning device they are often referred to as a black box. We can understand what the weights of a neural network look like better by plotting their feature maps. After successfully training your neural network you can see what it's feature maps look like by plotting the output of the network's weight layers in response to a test stimuli image. From these plotted feature maps, it's possible to see what characteristics of an image the network finds interesting. For a sign, maybe the inner network feature maps react with high activation to the sign's boundary outline or to the contrast in the sign's painted symbol.\n",
    "\n",
    " Provided for you below is the function code that allows you to get the visualization output of any tensorflow weight layer you want. The inputs to the function should be a stimuli image, one used during training or a new one you provided, and then the tensorflow variable name that represents the layer's state during the training process, for instance if you wanted to see what the [LeNet lab's](https://classroom.udacity.com/nanodegrees/nd013/parts/fbf77062-5703-404e-b60c-95b78b2f3f9e/modules/6df7ae49-c61c-4bb2-a23e-6527e69209ec/lessons/601ae704-1035-4287-8b11-e2c2716217ad/concepts/d4aca031-508f-4e0b-b493-e7b706120f81) feature maps looked like for it's second convolutional layer you could enter conv2 as the tf_activation variable.\n",
    "\n",
    "For an example of what feature map outputs look like, check out NVIDIA's results in their paper [End-to-End Deep Learning for Self-Driving Cars](https://devblogs.nvidia.com/parallelforall/deep-learning-self-driving-cars/) in the section Visualization of internal CNN State. NVIDIA was able to show that their network's inner weights had high activations to road boundary lines by comparing feature maps from an image with a clear path to one without. Try experimenting with a similar test to show that your trained network's weights are looking for interesting features, whether it's looking at differences in feature maps from images with or without a sign, or even what feature maps look like in a trained network vs a completely untrained one on the same sign image.\n",
    "\n",
    "<figure>\n",
    " <img src=\"visualize_cnn.png\" width=\"380\" alt=\"Combined Image\" />\n",
    " <figcaption>\n",
    " <p></p> \n",
    " <p style=\"text-align: center;\"> Your output should look something like this (above)</p> \n",
    " </figcaption>\n",
    "</figure>\n",
    " <p></p> \n"
   ]
  },
  {
   "cell_type": "code",
   "execution_count": null,
   "metadata": {
    "collapsed": true
   },
   "outputs": [],
   "source": [
    "### Visualize your network's feature maps here.\n",
    "### Feel free to use as many code cells as needed.\n",
    "\n",
    "# image_input: the test image being fed into the network to produce the feature maps\n",
    "# tf_activation: should be a tf variable name used during your training procedure that represents the calculated state of a specific weight layer\n",
    "# activation_min/max: can be used to view the activation contrast in more detail, by default matplot sets min and max to the actual min and max values of the output\n",
    "# plt_num: used to plot out multiple different weight feature map sets on the same block, just extend the plt number for each new feature map entry\n",
    "\n",
    "def outputFeatureMap(image_input, tf_activation, activation_min=-1, activation_max=-1 ,plt_num=1):\n",
    "    # Here make sure to preprocess your image_input in a way your network expects\n",
    "    # with size, normalization, ect if needed\n",
    "    # image_input =\n",
    "    # Note: x should be the same name as your network's tensorflow data placeholder variable\n",
    "    # If you get an error tf_activation is not defined it may be having trouble accessing the variable from inside a function\n",
    "    activation = tf_activation.eval(session=sess,feed_dict={x : image_input})\n",
    "    featuremaps = activation.shape[3]\n",
    "    plt.figure(plt_num, figsize=(15,15))\n",
    "    for featuremap in range(featuremaps):\n",
    "        plt.subplot(6,8, featuremap+1) # sets the number of feature maps to show on each row and column\n",
    "        plt.title('FeatureMap ' + str(featuremap)) # displays the feature map number\n",
    "        if activation_min != -1 & activation_max != -1:\n",
    "            plt.imshow(activation[0,:,:, featuremap], interpolation=\"nearest\", vmin =activation_min, vmax=activation_max, cmap=\"gray\")\n",
    "        elif activation_max != -1:\n",
    "            plt.imshow(activation[0,:,:, featuremap], interpolation=\"nearest\", vmax=activation_max, cmap=\"gray\")\n",
    "        elif activation_min !=-1:\n",
    "            plt.imshow(activation[0,:,:, featuremap], interpolation=\"nearest\", vmin=activation_min, cmap=\"gray\")\n",
    "        else:\n",
    "            plt.imshow(activation[0,:,:, featuremap], interpolation=\"nearest\", cmap=\"gray\")"
   ]
  }
 ],
 "metadata": {
  "anaconda-cloud": {},
  "kernelspec": {
   "display_name": "Python 3",
   "language": "python",
   "name": "python3"
  },
  "language_info": {
   "codemirror_mode": {
    "name": "ipython",
    "version": 3
   },
   "file_extension": ".py",
   "mimetype": "text/x-python",
   "name": "python",
   "nbconvert_exporter": "python",
   "pygments_lexer": "ipython3",
   "version": "3.5.2"
  },
  "widgets": {
   "state": {},
   "version": "1.1.2"
  }
 },
 "nbformat": 4,
 "nbformat_minor": 1
}
